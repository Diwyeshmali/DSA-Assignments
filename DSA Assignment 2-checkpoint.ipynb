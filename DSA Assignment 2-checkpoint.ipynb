{
 "cells": [
  {
   "cell_type": "code",
   "execution_count": 15,
   "id": "4ca6dea0",
   "metadata": {},
   "outputs": [
    {
     "name": "stdout",
     "output_type": "stream",
     "text": [
      "4\n"
     ]
    }
   ],
   "source": [
    "'''\n",
    "Given an integer array nums of 2n integers, group these integers into n pairs (a1, b1), (a2, b2),..., (an, bn) such that the sum of min(ai, bi) for all i is maximized. \n",
    "Return the maximized sum.\n",
    "'''\n",
    "\n",
    "def PairSum(nums):\n",
    "    nums.sort()  \n",
    "    n = len(nums) // 2\n",
    "    max_sum = 0\n",
    "    \n",
    "  \n",
    "    for i in range(0, len(nums), 2):\n",
    "        max_sum += nums[i]\n",
    "    \n",
    "    return max_sum\n",
    "\n",
    "\n",
    "nums = [1, 4, 3, 2]\n",
    "result = PairSum(nums)\n",
    "print(result)\n"
   ]
  },
  {
   "cell_type": "code",
   "execution_count": 23,
   "id": "3d685f07",
   "metadata": {},
   "outputs": [
    {
     "name": "stdout",
     "output_type": "stream",
     "text": [
      "3\n"
     ]
    }
   ],
   "source": [
    "'''\n",
    "Alice has n candies, where the ith candy is of type candyType[i]. Alice noticed that she started to gain weight, so she visited a doctor. \n",
    "The doctor advised Alice to only eat n / 2 of the candies she has (n is always even). Alice likes her candies very much, and she wants to eat the maximum number of different types of candies while still following the doctor's advice. \n",
    "Given the integer array candyType of length n, return the maximum number of different types of candies she can eat if she only eats n / 2 of them.\n",
    "'''\n",
    "\n",
    "def DistributeCandies(CandyType):\n",
    "    max_types = len(set(CandyType))\n",
    "    max_limit = len(CandyType) // 2\n",
    "    return min(max_types, max_limit)\n",
    "\n",
    "\n",
    "CandyType = [1, 1, 2, 2, 3, 3]\n",
    "result = DistributeCandies(candyType)\n",
    "print(result)\n"
   ]
  },
  {
   "cell_type": "code",
   "execution_count": 28,
   "id": "05472e8f",
   "metadata": {},
   "outputs": [
    {
     "name": "stdout",
     "output_type": "stream",
     "text": [
      "3\n"
     ]
    }
   ],
   "source": [
    "'''\n",
    "We define a harmonious array as an array where the difference between its maximum value\n",
    "and its minimum value is exactly 1.\n",
    "Given an integer array nums, return the length of its longest harmonious subsequence\n",
    "among all its possible subsequences.\n",
    "A subsequence of an array is a sequence that can be derived from the array by deleting some or no elements without changing the order of the remaining elements.\n",
    "'''\n",
    "\n",
    "def findLHS(nums):\n",
    "    num_freq = {}\n",
    "    max_length = 0\n",
    "    \n",
    "    # Count the frequency of each number in the array\n",
    "    for num in nums:\n",
    "        num_freq[num] = num_freq.get(num, 0) + 1\n",
    "    \n",
    "    # Check for harmonious subsequences\n",
    "    for num in num_freq:\n",
    "        if num + 1 in num_freq:\n",
    "            length = num_freq[num] + num_freq[num + 1]\n",
    "            max_length = max(max_length, length)\n",
    "    \n",
    "    return max_length\n",
    "\n",
    "\n",
    "nums = [1, 3, 2, 2, 5]\n",
    "result = findLHS(nums)\n",
    "print(result)\n"
   ]
  },
  {
   "cell_type": "code",
   "execution_count": 39,
   "id": "2e0cc3e7",
   "metadata": {},
   "outputs": [
    {
     "name": "stdout",
     "output_type": "stream",
     "text": [
      "True\n"
     ]
    }
   ],
   "source": [
    "'''\n",
    "You have a long flowerbed in which some of the plots are planted, and some are not.\n",
    "However, flowers cannot be planted in adjacent plots.\n",
    "Given an integer array flowerbed containing 0's and 1's, where 0 means empty and 1 means not empty, and an integer n, \n",
    "return true if n new flowers can be planted in the flowerbed without violating the no-adjacent-flowers rule and false otherwise.\n",
    "'''\n",
    "\n",
    "def CanPlaceFlowers(flowerbed, n):\n",
    "    count = 0\n",
    "    length = len(flowerbed)\n",
    "\n",
    "    for i in range(length):\n",
    "        if (\n",
    "            flowerbed[i] == 0 and\n",
    "            (i == 0 or flowerbed[i - 1] == 0) and\n",
    "            (i == length - 1 or flowerbed[i + 1] == 0)\n",
    "        ):\n",
    "            count = count + 1\n",
    "            flowerbed[i] = 1\n",
    "\n",
    "    return count >= n\n",
    "\n",
    "\n",
    "\n",
    "flowerbed = [2, 0, 0, 0, 2]\n",
    "n = 1\n",
    "result = CanPlaceFlowers(flowerbed, n)\n",
    "print(result)\n"
   ]
  },
  {
   "cell_type": "code",
   "execution_count": 48,
   "id": "352b0f2d",
   "metadata": {},
   "outputs": [
    {
     "name": "stdout",
     "output_type": "stream",
     "text": [
      "24\n"
     ]
    }
   ],
   "source": [
    "'''\n",
    "Given an integer array nums, find three numbers whose product is maximum and return the maximum product.\n",
    "'''\n",
    "\n",
    "def MaximumProduct(nums):\n",
    "    nums.sort()\n",
    "    n = len(nums)\n",
    "    return max(nums[n - 1] * nums[n - 2] * nums[n - 3], nums[0] * nums[1] * nums[n - 1])\n",
    "\n",
    "\n",
    "nums = [1, 0, 2, 3, 4]\n",
    "result = MaximumProduct(nums)\n",
    "print(result)\n"
   ]
  },
  {
   "cell_type": "code",
   "execution_count": 53,
   "id": "fc24edde",
   "metadata": {},
   "outputs": [
    {
     "name": "stdout",
     "output_type": "stream",
     "text": [
      "-1\n"
     ]
    }
   ],
   "source": [
    "'''\n",
    "Given an array of integers nums which is sorted in ascending order, and an integer target,\n",
    "write a function to search target in nums. If target exists, then return its index. Otherwise,\n",
    "return -1.\n",
    "You must write an algorithm with O(log n) runtime complexity.\n",
    "'''\n",
    "\n",
    "def Search(nums, target):\n",
    "    left = 0\n",
    "    right = len(nums) - 1\n",
    "    \n",
    "    while left <= right:\n",
    "        mid = (left + right) // 2\n",
    "        \n",
    "        if nums[mid] == target:\n",
    "            return mid\n",
    "        elif nums[mid] < target:\n",
    "            left = mid + 1\n",
    "        else:\n",
    "            right = mid - 1\n",
    "    \n",
    "    return -1\n",
    "\n",
    "\n",
    "nums = [6, 0, 3, 5, 9, 12]\n",
    "target = 4\n",
    "result = Search(nums, target)\n",
    "print(result)\n"
   ]
  },
  {
   "cell_type": "code",
   "execution_count": 55,
   "id": "b9e636a8",
   "metadata": {},
   "outputs": [
    {
     "name": "stdout",
     "output_type": "stream",
     "text": [
      "True\n"
     ]
    }
   ],
   "source": [
    "'''\n",
    "An array is monotonic if it is either monotone increasing or monotone decreasing.\n",
    "An array nums is monotone increasing if for all i <= j, nums[i] <= nums[j]. An array nums is\n",
    "monotone decreasing if for all i <= j, nums[i] >= nums[j].\n",
    "Given an integer array nums, return true if the given array is monotonic, or false otherwise.\n",
    "'''\n",
    "\n",
    "def isMonotonic(nums):\n",
    "    Increasing = Decreasing = True\n",
    "\n",
    "    for i in range(1, len(nums)):\n",
    "        if nums[i] < nums[i - 1]:\n",
    "            Increasing = False\n",
    "        if nums[i] > nums[i - 1]:\n",
    "            Decreasing = False\n",
    "\n",
    "    return Increasing or Decreasing\n",
    "\n",
    "\n",
    "nums = [1, 2, 3, 4, 5]\n",
    "result = isMonotonic(nums)\n",
    "print(result)\n"
   ]
  },
  {
   "cell_type": "code",
   "execution_count": 10,
   "id": "029c91ea",
   "metadata": {},
   "outputs": [
    {
     "name": "stdout",
     "output_type": "stream",
     "text": [
      "0\n"
     ]
    }
   ],
   "source": [
    "'''\n",
    "You are given an integer array nums and an integer k.\n",
    "In one operation, you can choose any index i where 0 <= i < nums.length and change nums[i] to nums[i] + x where x is an integer from the range [-k, k]. You can apply this operation at most once for each index i.\n",
    "The score of nums is the difference between the maximum and minimum elements in nums.\n",
    "Return the minimum score of nums after applying the mentioned operation at most once for each index in it.\n",
    "'''\n",
    "\n",
    "def minimumScore(nums, k):\n",
    "    nums.sort()\n",
    "    min_score = nums[-1] - nums[0]\n",
    "\n",
    "    for i in range(1, len(nums) - 1):\n",
    "        min_val = min(nums[i + 1] - k, nums[0] + k)\n",
    "        max_val = max(nums[i] + k, nums[-1] - k)\n",
    "        min_score = min(min_score, max_val - min_val)\n",
    "\n",
    "    return min_score\n",
    "\n",
    "\n",
    "nums = [1]\n",
    "k = 0\n",
    "result = minimumScore(nums, k)\n",
    "print(result)\n",
    "\n"
   ]
  },
  {
   "cell_type": "code",
   "execution_count": null,
   "id": "b469cb19",
   "metadata": {},
   "outputs": [],
   "source": []
  }
 ],
 "metadata": {
  "kernelspec": {
   "display_name": "Python 3 (ipykernel)",
   "language": "python",
   "name": "python3"
  },
  "language_info": {
   "codemirror_mode": {
    "name": "ipython",
    "version": 3
   },
   "file_extension": ".py",
   "mimetype": "text/x-python",
   "name": "python",
   "nbconvert_exporter": "python",
   "pygments_lexer": "ipython3",
   "version": "3.9.12"
  }
 },
 "nbformat": 4,
 "nbformat_minor": 5
}
