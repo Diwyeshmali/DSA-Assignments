{
 "cells": [
  {
   "cell_type": "code",
   "execution_count": 37,
   "id": "0ef76658",
   "metadata": {},
   "outputs": [
    {
     "name": "stdout",
     "output_type": "stream",
     "text": [
      "[1, 5]\n"
     ]
    }
   ],
   "source": [
    "'''\n",
    "Given three integer arrays arr1, arr2 and arr3 sorted in strictly increasing order, \n",
    "return a sorted array of only the integers that appeared in all three arrays.\n",
    "'''\n",
    "\n",
    "def find_common_elements(arr1, arr2, arr3):\n",
    "    common_elements = []\n",
    "    i = 0\n",
    "    j = 0\n",
    "    k = 0\n",
    "\n",
    "    while i < len(arr1) and j < len(arr2) and k < len(arr3):\n",
    "        if arr1[i] == arr2[j] == arr3[k]:\n",
    "            common_elements.append(arr1[i])\n",
    "            i += 1\n",
    "            j += 1\n",
    "            k += 1\n",
    "        elif arr1[i] < arr2[j]:\n",
    "            i += 1\n",
    "        elif arr2[j] < arr3[k]:\n",
    "            j += 1\n",
    "        else:\n",
    "            k += 1\n",
    "        \n",
    "    return sorted(common_elements)\n",
    "\n",
    "\n",
    "arr1 = [1,2,3,4,5]\n",
    "arr2 = [1,2,5,7,9]\n",
    "arr3 = [1,3,4,5,8]\n",
    "common_elements = find_common_elements(arr1, arr2, arr3)\n",
    "\n",
    "print(common_elements)\n"
   ]
  },
  {
   "cell_type": "code",
   "execution_count": 11,
   "id": "fa84daff",
   "metadata": {},
   "outputs": [
    {
     "name": "stdout",
     "output_type": "stream",
     "text": [
      "[[1, 4], [5]]\n"
     ]
    }
   ],
   "source": [
    "'''\n",
    "Given two 0-indexed integer arrays nums1 and nums2, return a list answer of size 2 where:\n",
    "\n",
    "- answer[0] is a list of all distinct integers in nums1 which are not present in nums2.\n",
    "- answer[1] is a list of all distinct integers in nums2 which are not present in nums1.\n",
    "\n",
    "Note that the integers in the lists may be returned in any order.\n",
    "'''\n",
    "\n",
    "def findDisjoint(nums1, nums2):\n",
    "    set1 = set(nums1)\n",
    "    set2 = set(nums2)\n",
    "    \n",
    "    diff1 = set1 - set2\n",
    "    diff2 = set2 - set1\n",
    "    \n",
    "    answer = [list(diff1), list(diff2)]\n",
    "    return answer\n",
    "\n",
    "nums1 = [1, 2, 2, 3, 4]\n",
    "nums2 = [2, 3, 5]\n",
    "\n",
    "answer = findDisjoint(nums1, nums2)\n",
    "print(answer)  \n"
   ]
  },
  {
   "cell_type": "code",
   "execution_count": 17,
   "id": "64c5872e",
   "metadata": {},
   "outputs": [
    {
     "name": "stdout",
     "output_type": "stream",
     "text": [
      "[[1, 4, 7], [2, 5, 8], [3, 6, 9]]\n"
     ]
    }
   ],
   "source": [
    "'''\n",
    "Given a 2D integer array matrix, return the transpose of matrix.\n",
    "The transpose of a matrix is the matrix flipped over its main diagonal, switching the matrix's row and column indices.\n",
    "'''\n",
    "\n",
    "def transpose(matrix):\n",
    "    m = len(matrix)    # Number of rows in the original matrix\n",
    "    n = len(matrix[0]) # Number of columns in the original matrix\n",
    "\n",
    "    # Initialize the result matrix with dimensions n x m\n",
    "    result = [[0] * m for _ in range(n)]\n",
    "\n",
    "   \n",
    "    for i in range(m):\n",
    "        for j in range(n):\n",
    "            result[j][i] = matrix[i][j]\n",
    "\n",
    "    return result\n",
    "\n",
    "\n",
    "\n",
    "matrix = [[1, 2, 3],[4, 5, 6],[7, 8, 9]]\n",
    "transpose_matrix = transpose(matrix)\n",
    "print(transpose_matrix)\n"
   ]
  },
  {
   "cell_type": "code",
   "execution_count": 21,
   "id": "ecbe4568",
   "metadata": {},
   "outputs": [
    {
     "name": "stdout",
     "output_type": "stream",
     "text": [
      "4\n"
     ]
    }
   ],
   "source": [
    "'''\n",
    "Given an integer array nums of 2n integers, group these integers into n pairs (a1, b1), (a2, b2), ..., (an, bn) \n",
    "such that the sum of min(ai, bi) for all i is maximized. Return the maximized sum.\n",
    "'''\n",
    "\n",
    "def arrayPairSum(nums):\n",
    "    nums.sort()  \n",
    "    max_sum = 0\n",
    "\n",
    "    # Pair up adjacent elements and add the minimum value to the max_sum\n",
    "    for i in range(0, len(nums), 2):\n",
    "        max_sum += nums[i]\n",
    "\n",
    "    return max_sum\n",
    "\n",
    "\n",
    "nums = [1, 4, 3, 2]\n",
    "max_sum = arrayPairSum(nums)\n",
    "print(max_sum)\n",
    "\n"
   ]
  },
  {
   "cell_type": "code",
   "execution_count": 23,
   "id": "d616ebb5",
   "metadata": {},
   "outputs": [
    {
     "name": "stdout",
     "output_type": "stream",
     "text": [
      "2\n"
     ]
    }
   ],
   "source": [
    "'''\n",
    "You have n coins and you want to build a staircase with these coins. \n",
    "The staircase consists of k rows where the ith row has exactly i coins. The last row of the staircase may be incomplete.\n",
    "Given the integer n, return the number of complete rows of the staircase you will build*.\n",
    "'''\n",
    "\n",
    "def arrangeCoins(n):\n",
    "    left = 1\n",
    "    right = n\n",
    "\n",
    "    while left <= right:\n",
    "        mid = left + (right - left) // 2\n",
    "        sum_mid = (mid * (mid + 1)) // 2\n",
    "\n",
    "        if sum_mid <= n:\n",
    "            left = mid + 1\n",
    "        else:\n",
    "            right = mid - 1\n",
    "\n",
    "    return right\n",
    "\n",
    "\n",
    "n = 5\n",
    "complete_rows = arrangeCoins(n)\n",
    "print(complete_rows)\n"
   ]
  },
  {
   "cell_type": "code",
   "execution_count": 38,
   "id": "cd7b7363",
   "metadata": {},
   "outputs": [
    {
     "name": "stdout",
     "output_type": "stream",
     "text": [
      "[0, 1, 9, 16, 100]\n"
     ]
    }
   ],
   "source": [
    "'''\n",
    "Given an integer array nums sorted in non-decreasing order, \n",
    "return an array of the squares of each number sorted in non-decreasing order.\n",
    "'''\n",
    "\n",
    "def squares_of_sorted_array(nums):\n",
    "    \n",
    "    output = []\n",
    "\n",
    "\n",
    "    for num in nums:\n",
    "        output.append(num ** 2)\n",
    "        output.sort()\n",
    "    return output\n",
    "\n",
    "\n",
    "nums = [-4, -1, 0, 3, 10]\n",
    "squares = squares_of_sorted_array(nums)\n",
    "print(squares)\n"
   ]
  },
  {
   "cell_type": "code",
   "execution_count": 26,
   "id": "c61ddddb",
   "metadata": {},
   "outputs": [
    {
     "name": "stdout",
     "output_type": "stream",
     "text": [
      "4\n"
     ]
    }
   ],
   "source": [
    "'''\n",
    "You are given an m x n matrix M initialized with all 0's and an array of operations ops, where ops[i] = [ai, bi] means M[x][y] \n",
    "should be incremented by one for all 0 <= x < ai and 0 <= y < bi.\n",
    "Count and return *the number of maximum integers in the matrix after performing all the operations\n",
    "'''\n",
    "\n",
    "def maxCount(m, n, ops):\n",
    "    max_rows = m\n",
    "    max_cols = n\n",
    "\n",
    "    for op in ops:\n",
    "        max_rows = min(max_rows, op[0])\n",
    "        max_cols = min(max_cols, op[1])\n",
    "\n",
    "    return max_rows * max_cols\n",
    "\n",
    "\n",
    "m = 3\n",
    "n = 3\n",
    "ops = [[2, 2], [3, 3]]\n",
    "max_integers = maxCount(m, n, ops)\n",
    "print(max_integers)\n"
   ]
  },
  {
   "cell_type": "code",
   "execution_count": 39,
   "id": "40977b5e",
   "metadata": {},
   "outputs": [
    {
     "name": "stdout",
     "output_type": "stream",
     "text": [
      "[1, 4, 2, 5, 3, 6]\n"
     ]
    }
   ],
   "source": [
    "'''\n",
    "Given the array nums consisting of 2n elements in the form [x1,x2,...,xn,y1,y2,...,yn].\n",
    "Return the array in the form* [x1,y1,x2,y2,...,xn,yn].\n",
    "'''\n",
    "\n",
    "def shuffle(nums, n):\n",
    "    result = []\n",
    "    for i in range(n):\n",
    "        result.append(nums[i])\n",
    "        result.append(nums[i+n])\n",
    "    return result\n",
    "\n",
    "nums = [1,2,3,4,5,6]\n",
    "n = 3\n",
    "shuffled_nums = shuffle(nums, n)\n",
    "print(shuffled_nums)\n"
   ]
  },
  {
   "cell_type": "code",
   "execution_count": null,
   "id": "8aeefec5",
   "metadata": {},
   "outputs": [],
   "source": []
  }
 ],
 "metadata": {
  "kernelspec": {
   "display_name": "Python 3 (ipykernel)",
   "language": "python",
   "name": "python3"
  },
  "language_info": {
   "codemirror_mode": {
    "name": "ipython",
    "version": 3
   },
   "file_extension": ".py",
   "mimetype": "text/x-python",
   "name": "python",
   "nbconvert_exporter": "python",
   "pygments_lexer": "ipython3",
   "version": "3.9.12"
  }
 },
 "nbformat": 4,
 "nbformat_minor": 5
}
