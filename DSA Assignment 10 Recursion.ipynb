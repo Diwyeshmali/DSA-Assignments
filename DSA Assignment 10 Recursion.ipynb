{
 "cells": [
  {
   "cell_type": "code",
   "execution_count": 1,
   "id": "2995066b",
   "metadata": {},
   "outputs": [
    {
     "name": "stdout",
     "output_type": "stream",
     "text": [
      "False\n",
      "True\n",
      "False\n",
      "False\n",
      "False\n"
     ]
    }
   ],
   "source": [
    "'''\n",
    "Given an integer n, return true if it is a power of three. Otherwise, return false.\n",
    "\n",
    "An integer n is a power of three, if there exists an integer x such that n == 3x.\n",
    "'''\n",
    "\n",
    "def is_power_of_three(n):\n",
    "    \n",
    "    if n <= 0:\n",
    "        return False\n",
    "\n",
    "    while n % 3 == 0:\n",
    "        n //= 3\n",
    "\n",
    "    return n == 1\n",
    "\n",
    "\n",
    "print(is_power_of_three(-1))   \n",
    "print(is_power_of_three(27))   \n",
    "print(is_power_of_three(45)) \n",
    "print(is_power_of_three(0))   \n",
    "print(is_power_of_three(-9)) "
   ]
  },
  {
   "cell_type": "code",
   "execution_count": 2,
   "id": "e7f37f72",
   "metadata": {},
   "outputs": [
    {
     "name": "stdout",
     "output_type": "stream",
     "text": [
      "6\n",
      "4\n",
      "1\n"
     ]
    }
   ],
   "source": [
    "'''\n",
    "You have a list arr of all integers in the range [1,n] sorted in a strictly increasing order.\n",
    "Apply the following algorithm on arr:\n",
    "\n",
    "- Starting from left to right, remove the first number and every other number afterward until you reach the end of the list.\n",
    "- Repeat the previous step again, but this time from right to left, remove the rightmost number and every other number from the remaining numbers.\n",
    "- Keep repeating the steps again, alternating left to right and right to left, until a single number remains.\n",
    "\n",
    "Given the integer n, return the last number that remains in arr.\n",
    "'''\n",
    "\n",
    "def last_remaining(n):\n",
    "    left_to_right = True\n",
    "    remaining = n\n",
    "    step = 1\n",
    "    head = 1\n",
    "\n",
    "    while remaining > 1:\n",
    "        if left_to_right or remaining % 2 == 1:\n",
    "            head += step\n",
    "\n",
    "        remaining //= 2\n",
    "        step *= 2\n",
    "        left_to_right = not left_to_right\n",
    "\n",
    "    return head\n",
    "\n",
    "\n",
    "print(last_remaining(9))   \n",
    "print(last_remaining(6))\n",
    "print(last_remaining(1)) "
   ]
  },
  {
   "cell_type": "code",
   "execution_count": 3,
   "id": "22b5c6db",
   "metadata": {},
   "outputs": [
    {
     "name": "stdout",
     "output_type": "stream",
     "text": [
      "abc\n",
      "ab\n",
      "ac\n",
      "a\n",
      "bc\n",
      "b\n",
      "c\n",
      "\n"
     ]
    }
   ],
   "source": [
    "'''\n",
    "Given a set represented as a string, write a recursive code to print all subsets of it.\n",
    "The subsets can be printed in any order.\n",
    "'''\n",
    "\n",
    "def print_subsets(s, current=\"\", index=0):\n",
    "    # Base case: If we have traversed the entire string\n",
    "    if index == len(s):\n",
    "        print(current)\n",
    "        return\n",
    "\n",
    "    # Recursive case 1: Include the current character in the subset\n",
    "    print_subsets(s, current + s[index], index + 1)\n",
    "\n",
    "    # Recursive case 2: Exclude the current character from the subset\n",
    "    print_subsets(s, current, index + 1)\n",
    "\n",
    "    \n",
    "print_subsets(\"abc\")"
   ]
  },
  {
   "cell_type": "code",
   "execution_count": 4,
   "id": "4f8b5bdc",
   "metadata": {},
   "outputs": [
    {
     "name": "stdout",
     "output_type": "stream",
     "text": [
      "7\n"
     ]
    }
   ],
   "source": [
    "'''\n",
    "Given a string calculate length of the string using recursion.\n",
    "'''\n",
    "\n",
    "def length(s):\n",
    "    if s == '':\n",
    "        return 0\n",
    "    else:\n",
    "        return 1 + length(s[1:])\n",
    "\n",
    "\n",
    "s = \"Hello, \"\n",
    "print(length(s))"
   ]
  },
  {
   "cell_type": "code",
   "execution_count": 5,
   "id": "09002fac",
   "metadata": {},
   "outputs": [
    {
     "name": "stdout",
     "output_type": "stream",
     "text": [
      "4\n"
     ]
    }
   ],
   "source": [
    "'''\n",
    "We are given a string S, we need to find count of all contiguous substrings starting and ending with same character.\n",
    "'''\n",
    "\n",
    "def count_substrings(s):\n",
    "    count = 0\n",
    "    for i in range(len(s)):\n",
    "        for j in range(i, len(s)):\n",
    "            if s[i] == s[j]:\n",
    "                count += 1\n",
    "    return count\n",
    "\n",
    "\n",
    "s = \"aba\"\n",
    "print(count_substrings(s))"
   ]
  },
  {
   "cell_type": "code",
   "execution_count": 6,
   "id": "92a26d13",
   "metadata": {},
   "outputs": [
    {
     "name": "stdout",
     "output_type": "stream",
     "text": [
      "Move disk 1 from rod 1 to rod 3\n",
      "Move disk 2 from rod 1 to rod 2\n",
      "Move disk 1 from rod 3 to rod 2\n",
      "Move disk 3 from rod 1 to rod 3\n",
      "Move disk 1 from rod 2 to rod 1\n",
      "Move disk 2 from rod 2 to rod 3\n",
      "Move disk 1 from rod 1 to rod 3\n",
      "Total moves: 7\n"
     ]
    }
   ],
   "source": [
    "'''\n",
    "The tower of Hanoi is a famous puzzle where we have three rods and N disks. \n",
    "The objective of the puzzle is to move the entire stack to another rod.\n",
    "You are given the number of discs N. Initially, these discs are in the rod 1.\n",
    "You need to print all the steps of discs movement so that all the discs reach the 3rd rod.\n",
    "Also, you need to find the total moves.\n",
    "Note: The discs are arranged such that the top disc is numbered 1 and the bottom-most disc is numbered N. \n",
    "Also, all the discs have different sizes and a bigger disc cannot be put on the top of a smaller disc.\n",
    "Refer the provided link to get a better clarity about the puzzle.\n",
    "'''\n",
    "\n",
    "def tower_of_hanoi(n, source, destination, auxiliary):\n",
    "    if n == 1:\n",
    "        print(\"Move disk 1 from rod\", source, \"to rod\", destination)\n",
    "        return 1\n",
    "\n",
    "    moves = tower_of_hanoi(n-1, source, auxiliary, destination)\n",
    "    print(\"Move disk\", n, \"from rod\", source, \"to rod\", destination)\n",
    "    moves += 1\n",
    "    moves += tower_of_hanoi(n-1, auxiliary, destination, source)\n",
    "    \n",
    "    return moves\n",
    "\n",
    "\n",
    "\n",
    "n = 3\n",
    "source_rod = 1\n",
    "destination_rod = 3\n",
    "auxiliary_rod = 2\n",
    "\n",
    "total_moves = tower_of_hanoi(n, source_rod, destination_rod, auxiliary_rod)\n",
    "print(\"Total moves:\", total_moves)"
   ]
  },
  {
   "cell_type": "code",
   "execution_count": 19,
   "id": "8df0c6eb",
   "metadata": {},
   "outputs": [
    {
     "name": "stdout",
     "output_type": "stream",
     "text": [
      "cd\n",
      "dc\n"
     ]
    }
   ],
   "source": [
    "'''\n",
    "Given a string str, the task is to print all the permutations of str.\n",
    "A permutation is an arrangement of all or part of a set of objects, with regard to the order of the arrangement. \n",
    "For instance, the words ‘bat’ and ‘tab’ represents two distinct permutation (or arrangements) of a similar three letter word.\n",
    "'''\n",
    "\n",
    "from itertools import permutations\n",
    "\n",
    "def print_permutations(str):\n",
    "    \n",
    "    for perm in permutations(str):\n",
    "        print(''.join(perm))\n",
    "\n",
    "if __name__ == '__main__':\n",
    "    str = 'cd'\n",
    "    print_permutations(str)"
   ]
  },
  {
   "cell_type": "code",
   "execution_count": 22,
   "id": "5e371060",
   "metadata": {},
   "outputs": [
    {
     "name": "stdout",
     "output_type": "stream",
     "text": [
      "Total consonants: 3\n"
     ]
    }
   ],
   "source": [
    "'''\n",
    "Given a string, count total number of consonants in it. \n",
    "A consonant is an English alphabet character that is not vowel (a, e, i, o and u).\n",
    "Examples of constants are b, c, d, f, and g.\n",
    "'''\n",
    "\n",
    "def count_consonants(string):\n",
    "    vowels = \"aeiouAEIOU\"\n",
    "    consonant_count = 0\n",
    "\n",
    "    for char in string:\n",
    "        if char.isalpha() and char not in vowels:\n",
    "            consonant_count += 1\n",
    "\n",
    "    return consonant_count\n",
    "\n",
    "\n",
    "\n",
    "string = \"ineuron\"\n",
    "count = count_consonants(string)\n",
    "print(\"Total consonants:\", count)"
   ]
  },
  {
   "cell_type": "code",
   "execution_count": null,
   "id": "c03a45ec",
   "metadata": {},
   "outputs": [],
   "source": []
  }
 ],
 "metadata": {
  "kernelspec": {
   "display_name": "Python 3 (ipykernel)",
   "language": "python",
   "name": "python3"
  },
  "language_info": {
   "codemirror_mode": {
    "name": "ipython",
    "version": 3
   },
   "file_extension": ".py",
   "mimetype": "text/x-python",
   "name": "python",
   "nbconvert_exporter": "python",
   "pygments_lexer": "ipython3",
   "version": "3.9.12"
  }
 },
 "nbformat": 4,
 "nbformat_minor": 5
}
