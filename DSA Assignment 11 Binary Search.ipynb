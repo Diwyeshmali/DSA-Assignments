{
 "cells": [
  {
   "cell_type": "code",
   "execution_count": 2,
   "id": "26df4b7d",
   "metadata": {},
   "outputs": [
    {
     "name": "stdout",
     "output_type": "stream",
     "text": [
      "2\n"
     ]
    }
   ],
   "source": [
    "'''\n",
    "Given a non-negative integer x, return the square root of x rounded down to the nearest integer. \n",
    "The returned integer should be non-negative as well.\n",
    "You must not use any built-in exponent function or operator.\n",
    "\n",
    "- For example, do not use pow(x, 0.5) in c++ or x ** 0.5 in python.\n",
    "'''\n",
    "\n",
    "def square_root(x):\n",
    "    low = 0\n",
    "    high = x\n",
    "\n",
    "    while low < high:\n",
    "        mid = (low + high) // 2\n",
    "\n",
    "        if mid * mid <= x:\n",
    "            low = mid + 1\n",
    "        else:\n",
    "            high = mid\n",
    "\n",
    "    return low - 1\n",
    "\n",
    "\n",
    "x = 8\n",
    "print(square_root(x))"
   ]
  },
  {
   "cell_type": "code",
   "execution_count": 4,
   "id": "b0377f0a",
   "metadata": {},
   "outputs": [
    {
     "name": "stdout",
     "output_type": "stream",
     "text": [
      "Peak element found at index 5\n"
     ]
    }
   ],
   "source": [
    "'''\n",
    "A peak element is an element that is strictly greater than its neighbors.\n",
    "Given a 0-indexed integer array nums, find a peak element, and return its index.\n",
    "If the array contains multiple peaks, return the index to any of the peaks.\n",
    "You may imagine that nums[-1] = nums[n] = -∞. In other words, \n",
    "an element is always considered to be strictly greater than a neighbor that is outside the array.\n",
    "You must write an algorithm that runs in O(log n) time.\n",
    "'''\n",
    "\n",
    "def findPeakElement(nums):\n",
    "    left = 0\n",
    "    right = len(nums) - 1\n",
    "\n",
    "    while left < right:\n",
    "        mid = (left + right) // 2\n",
    "\n",
    "        if nums[mid] > nums[mid + 1]:\n",
    "            right = mid\n",
    "        else:\n",
    "            left = mid + 1\n",
    "\n",
    "    return left\n",
    "\n",
    "\n",
    "nums = [1, 2, 1, 3, 5, 6, 4]\n",
    "result = findPeakElement(nums)\n",
    "print(\"Peak element found at index\", result)"
   ]
  },
  {
   "cell_type": "code",
   "execution_count": 5,
   "id": "b2541dc0",
   "metadata": {},
   "outputs": [
    {
     "name": "stdout",
     "output_type": "stream",
     "text": [
      "Missing number: 2\n"
     ]
    }
   ],
   "source": [
    "'''\n",
    "Given an array nums containing n distinct numbers in the range [0, n], \n",
    "return the only number in the range that is missing from the array.\n",
    "'''\n",
    "\n",
    "def missingNumber(nums):\n",
    "    n = len(nums)\n",
    "    expected_sum = (n * (n + 1)) // 2\n",
    "    actual_sum = sum(nums)\n",
    "    return expected_sum - actual_sum\n",
    "\n",
    "\n",
    "nums = [3, 0, 1]\n",
    "result = missingNumber(nums)\n",
    "print(\"Missing number:\", result)"
   ]
  },
  {
   "cell_type": "code",
   "execution_count": 6,
   "id": "f57cc9e9",
   "metadata": {},
   "outputs": [
    {
     "name": "stdout",
     "output_type": "stream",
     "text": [
      "Repeated number: 2\n"
     ]
    }
   ],
   "source": [
    "'''\n",
    "Given an array of integers nums containing n + 1 integers where each integer is in the range [1, n] inclusive.\n",
    "There is only one repeated number in nums, return this repeated number.\n",
    "You must solve the problem without modifying the array nums and uses only constant extra space.\n",
    "'''\n",
    "\n",
    "def findDuplicate(nums):\n",
    "    slow = fast = nums[0]  \n",
    "    \n",
    "    while True:\n",
    "        slow = nums[slow]\n",
    "        fast = nums[nums[fast]]\n",
    "        if slow == fast:\n",
    "            break\n",
    "    \n",
    "    slow = nums[0]\n",
    "    while slow != fast:\n",
    "        slow = nums[slow]\n",
    "        fast = nums[fast]\n",
    "    \n",
    "    return slow\n",
    "\n",
    "\n",
    "nums = [1, 3, 4, 2, 2]\n",
    "result = findDuplicate(nums)\n",
    "print(\"Repeated number:\", result)"
   ]
  },
  {
   "cell_type": "code",
   "execution_count": 7,
   "id": "7fa4a72e",
   "metadata": {},
   "outputs": [
    {
     "name": "stdout",
     "output_type": "stream",
     "text": [
      "Intersection: [2]\n"
     ]
    }
   ],
   "source": [
    "'''\n",
    "Given two integer arrays nums1 and nums2, return an array of their intersection.\n",
    "Each element in the result must be unique and you may return the result in any order.\n",
    "'''\n",
    "\n",
    "def intersection(nums1, nums2):\n",
    "    set1 = set(nums1)\n",
    "    \n",
    "    result = set()\n",
    "    \n",
    "    for num in nums2:\n",
    "        if num in set1:\n",
    "            result.add(num)\n",
    "    \n",
    "    return list(result)\n",
    "\n",
    "\n",
    "nums1 = [1, 2, 2, 1]\n",
    "nums2 = [2, 2, 3, 4, 5]\n",
    "result = intersection(nums1, nums2)\n",
    "print(\"Intersection:\", result)"
   ]
  },
  {
   "cell_type": "code",
   "execution_count": 1,
   "id": "a322fcd5",
   "metadata": {},
   "outputs": [
    {
     "name": "stdout",
     "output_type": "stream",
     "text": [
      "1\n"
     ]
    }
   ],
   "source": [
    "'''\n",
    "Suppose an array of length n sorted in ascending order is rotated between 1 and n times. \n",
    "For example, the array nums = [0,1,2,4,5,6,7] might become:\n",
    "\n",
    "- [4,5,6,7,0,1,2] if it was rotated 4 times.\n",
    "- [0,1,2,4,5,6,7] if it was rotated 7 times.\n",
    "\n",
    "Notice that rotating an array [a[0], a[1], a[2], ..., a[n-1]] 1 time results in the array [a[n-1], a[0], a[1], a[2], ..., a[n-2]].\n",
    "\n",
    "Given the sorted rotated array nums of unique elements, return the minimum element of this array.\n",
    "You must write an algorithm that runs in O(log n) time.\n",
    "'''\n",
    "\n",
    "def findMin(nums):\n",
    "    left = 0\n",
    "    right = len(nums) - 1\n",
    "\n",
    "    while left < right:\n",
    "        mid = left + (right - left) // 2\n",
    "\n",
    "        if nums[mid] < nums[right]:\n",
    "            right = mid\n",
    "        else:\n",
    "            left = mid + 1\n",
    "\n",
    "    return nums[left]\n",
    "\n",
    "\n",
    "nums = [3,4,5,1,2]\n",
    "print(findMin(nums))"
   ]
  },
  {
   "cell_type": "code",
   "execution_count": 4,
   "id": "647061c3",
   "metadata": {},
   "outputs": [
    {
     "name": "stdout",
     "output_type": "stream",
     "text": [
      "[-1, -1]\n"
     ]
    }
   ],
   "source": [
    "'''\n",
    "Given an array of integers nums sorted in non-decreasing order, find the starting and ending position of a given target value.\n",
    "If target is not found in the array, return [-1, -1].\n",
    "You must write an algorithm with O(log n) runtime complexity.\n",
    "'''\n",
    "\n",
    "def search_range(nums, target):\n",
    "    start = 0\n",
    "    end = len(nums) - 1\n",
    "\n",
    "    while start <= end:\n",
    "        mid = (start + end) // 2\n",
    "\n",
    "        if nums[mid] == target:\n",
    "            start = mid\n",
    "            while start < end and nums[start] == target:\n",
    "                start += 1\n",
    "\n",
    "            end = mid\n",
    "            while end > start and nums[end] == target:\n",
    "                end -= 1\n",
    "\n",
    "            return [start, end]\n",
    "        elif nums[mid] < target:\n",
    "            start = mid + 1\n",
    "        else:\n",
    "            end = mid - 1\n",
    "\n",
    "    return [-1, -1]\n",
    "\n",
    "\n",
    "\n",
    "nums = []\n",
    "target = 0\n",
    "print(search_range(nums, target))"
   ]
  },
  {
   "cell_type": "code",
   "execution_count": 6,
   "id": "c7081ca4",
   "metadata": {},
   "outputs": [
    {
     "name": "stdout",
     "output_type": "stream",
     "text": [
      "[2, 2]\n"
     ]
    }
   ],
   "source": [
    "'''\n",
    "Given two integer arrays nums1 and nums2, return an array of their intersection.\n",
    "Each element in the result must appear as many times as it shows in both arrays and you may return the result in any order.\n",
    "'''\n",
    "\n",
    "def intersection(nums1, nums2):\n",
    "    intersection = []\n",
    "    \n",
    "    nums1.sort()\n",
    "    nums2.sort()\n",
    "    \n",
    "    i = 0\n",
    "    j = 0\n",
    "    while i < len(nums1) and j < len(nums2):\n",
    "        if nums1[i] == nums2[j]:\n",
    "            intersection.append(nums1[i])\n",
    "            i += 1\n",
    "            j += 1\n",
    "        elif nums1[i] < nums2[j]:\n",
    "            i += 1\n",
    "        else:\n",
    "            j += 1\n",
    "\n",
    "    return intersection\n",
    "\n",
    "\n",
    "nums1 = [1,2,2,1]\n",
    "nums2 = [2,2]\n",
    "print(intersection(nums1, nums2))"
   ]
  },
  {
   "cell_type": "code",
   "execution_count": null,
   "id": "cfe9472c",
   "metadata": {},
   "outputs": [],
   "source": []
  }
 ],
 "metadata": {
  "kernelspec": {
   "display_name": "Python 3 (ipykernel)",
   "language": "python",
   "name": "python3"
  },
  "language_info": {
   "codemirror_mode": {
    "name": "ipython",
    "version": 3
   },
   "file_extension": ".py",
   "mimetype": "text/x-python",
   "name": "python",
   "nbconvert_exporter": "python",
   "pygments_lexer": "ipython3",
   "version": "3.9.12"
  }
 },
 "nbformat": 4,
 "nbformat_minor": 5
}
