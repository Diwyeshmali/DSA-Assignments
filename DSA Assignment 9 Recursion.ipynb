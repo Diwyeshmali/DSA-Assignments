{
 "cells": [
  {
   "cell_type": "code",
   "execution_count": 1,
   "id": "e2454bf1",
   "metadata": {},
   "outputs": [
    {
     "name": "stdout",
     "output_type": "stream",
     "text": [
      "False\n"
     ]
    }
   ],
   "source": [
    "'''\n",
    "Given an integer n, return true if it is a power of two. Otherwise, return false.\n",
    "\n",
    "An integer n is a power of two, if there exists an integer x such that n == 2x.\n",
    "'''\n",
    "\n",
    "\n",
    "def isPowerOfTwo(n):\n",
    "    if n <= 0:\n",
    "        return False\n",
    "\n",
    "    return n & (n - 1) == 0\n",
    "\n",
    "\n",
    "n = 6\n",
    "print(isPowerOfTwo(n)) "
   ]
  },
  {
   "cell_type": "code",
   "execution_count": 2,
   "id": "5b32d2b3",
   "metadata": {},
   "outputs": [
    {
     "name": "stdout",
     "output_type": "stream",
     "text": [
      "21.0\n"
     ]
    }
   ],
   "source": [
    "'''\n",
    "Given a number n, find the sum of the first natural numbers.\n",
    "'''\n",
    "\n",
    "sum = (n * (n + 1)) / 2\n",
    "\n",
    "n= 5\n",
    "print(sum)"
   ]
  },
  {
   "cell_type": "code",
   "execution_count": 3,
   "id": "e11dc8d3",
   "metadata": {},
   "outputs": [
    {
     "name": "stdout",
     "output_type": "stream",
     "text": [
      "24\n"
     ]
    }
   ],
   "source": [
    "'''\n",
    "Given a positive integer, N. Find the factorial of N.\n",
    "'''\n",
    "\n",
    "def factorial(n):\n",
    "    if n == 0:\n",
    "        return 1\n",
    "    else:\n",
    "        return n * factorial(n - 1)\n",
    "\n",
    "    \n",
    "n = 4\n",
    "print(factorial(n))"
   ]
  },
  {
   "cell_type": "code",
   "execution_count": 4,
   "id": "1851b1de",
   "metadata": {},
   "outputs": [
    {
     "name": "stdout",
     "output_type": "stream",
     "text": [
      "25\n",
      "32\n"
     ]
    }
   ],
   "source": [
    "'''\n",
    "Given a number N and a power P, the task is to find the exponent of this number raised to the given power, i.e. N^P.\n",
    "'''\n",
    "\n",
    "def calculateExponent(N, P):\n",
    "    return N ** P\n",
    "\n",
    "\n",
    "print(calculateExponent(5, 2))  \n",
    "print(calculateExponent(2, 5))"
   ]
  },
  {
   "cell_type": "code",
   "execution_count": 5,
   "id": "02e2ee15",
   "metadata": {},
   "outputs": [
    {
     "name": "stdout",
     "output_type": "stream",
     "text": [
      "45\n"
     ]
    }
   ],
   "source": [
    "'''\n",
    "Given an array of integers arr, the task is to find maximum element of that array using recursion.\n",
    "'''\n",
    "\n",
    "def find_max(arr, start, end):\n",
    "    \n",
    "    if start == end:\n",
    "        return arr[start]\n",
    "\n",
    "    mid = (start + end) // 2\n",
    "    max_left = find_max(arr, start, mid)\n",
    "    max_right = find_max(arr, mid + 1, end)\n",
    "\n",
    "    return max(max_left, max_right)\n",
    "\n",
    "\n",
    "\n",
    "arr = [1, 4, 45, 6, 10, -8]\n",
    "max_element = find_max(arr, 0, len(arr) - 1)\n",
    "print(max_element)"
   ]
  },
  {
   "cell_type": "code",
   "execution_count": 6,
   "id": "2fbff5df",
   "metadata": {},
   "outputs": [
    {
     "name": "stdout",
     "output_type": "stream",
     "text": [
      "6\n",
      "23\n"
     ]
    }
   ],
   "source": [
    "'''\n",
    "Given first term (a), common difference (d) and a integer N of the Arithmetic Progression series, \n",
    "the task is to find Nth term of the series.\n",
    "'''\n",
    "\n",
    "def findNthTerm(a, d, N):\n",
    "    return a + (N - 1) * d\n",
    "\n",
    "\n",
    "print(findNthTerm(2, 1, 5)) \n",
    "print(findNthTerm(5, 2, 10))"
   ]
  },
  {
   "cell_type": "code",
   "execution_count": 7,
   "id": "5e607603",
   "metadata": {},
   "outputs": [
    {
     "name": "stdout",
     "output_type": "stream",
     "text": [
      "['ABC', 'ACB', 'BAC', 'BCA', 'CAB', 'CBA']\n",
      "['XY', 'YX']\n"
     ]
    }
   ],
   "source": [
    "'''\n",
    "Given a string S, the task is to write a program to print all permutations of a given string.\n",
    "'''\n",
    "\n",
    "def permute(S):\n",
    "\n",
    "    if len(S) == 1:\n",
    "        return [S]\n",
    "\n",
    "\n",
    "    permutations = []\n",
    "\n",
    " \n",
    "    for i in range(len(S)):\n",
    "  \n",
    "        c = S[i]\n",
    "        S_without_c = S[:i] + S[i+1:]\n",
    "\n",
    "   \n",
    "        sub_permutations = permute(S_without_c)\n",
    "\n",
    "   \n",
    "        for sub_permutation in sub_permutations:\n",
    "            permutations.append(c + sub_permutation)\n",
    "\n",
    "    return permutations\n",
    "\n",
    "\n",
    "\n",
    "S1 = \"ABC\"\n",
    "print(permute(S1)) \n",
    "\n",
    "S2 = \"XY\"\n",
    "print(permute(S2))"
   ]
  },
  {
   "cell_type": "code",
   "execution_count": 8,
   "id": "21610bf4",
   "metadata": {},
   "outputs": [
    {
     "name": "stdout",
     "output_type": "stream",
     "text": [
      "120\n",
      "18\n"
     ]
    }
   ],
   "source": [
    "'''\n",
    "Given an array, find a product of all array elements.\n",
    "'''\n",
    "\n",
    "def productOfArray(arr):\n",
    "    product = 1\n",
    "    for num in arr:\n",
    "        product *= num\n",
    "    return product\n",
    "\n",
    "\n",
    "arr1 = [1, 2, 3, 4, 5]\n",
    "print(productOfArray(arr1))  \n",
    "\n",
    "arr2 = [1, 6, 3]\n",
    "print(productOfArray(arr2))"
   ]
  },
  {
   "cell_type": "code",
   "execution_count": null,
   "id": "2e9cfdcf",
   "metadata": {},
   "outputs": [],
   "source": []
  }
 ],
 "metadata": {
  "kernelspec": {
   "display_name": "Python 3 (ipykernel)",
   "language": "python",
   "name": "python3"
  },
  "language_info": {
   "codemirror_mode": {
    "name": "ipython",
    "version": 3
   },
   "file_extension": ".py",
   "mimetype": "text/x-python",
   "name": "python",
   "nbconvert_exporter": "python",
   "pygments_lexer": "ipython3",
   "version": "3.9.12"
  }
 },
 "nbformat": 4,
 "nbformat_minor": 5
}
