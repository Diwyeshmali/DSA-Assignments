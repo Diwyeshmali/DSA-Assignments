{
 "cells": [
  {
   "cell_type": "code",
   "execution_count": 7,
   "id": "0e68e39f",
   "metadata": {},
   "outputs": [
    {
     "name": "stdout",
     "output_type": "stream",
     "text": [
      "[1, 2]\n"
     ]
    }
   ],
   "source": [
    "'''\n",
    "Given an array of integers nums and an integer target, return indices of the two numbers such that they add up to target.\n",
    "\n",
    "You may assume that each input would have exactly one solution, and you may not use the same element twice.\n",
    "\n",
    "You can return the answer in any order.\n",
    "\n",
    "'''\n",
    "\n",
    "def two_sum(nums, target):\n",
    "    # Create a hashmap to store values and indices\n",
    "    hashmap = {}\n",
    "    \n",
    "    # Iterate through the array\n",
    "    for i, num in enumerate(nums):\n",
    "        complement = target - num\n",
    "        \n",
    "        # Check if the complement exists in the hashmap\n",
    "        if complement in hashmap:\n",
    "            # Return the indices of the two numbers\n",
    "            return [hashmap[complement], i]\n",
    "        \n",
    "        # Add the current number and its index to the hashmap\n",
    "        hashmap[num] = i\n",
    "    \n",
    "    # If no solution is found, return an empty array\n",
    "    return []\n",
    "\n",
    "nums = [2, 9, 11, 15]\n",
    "target = 20\n",
    "result = two_sum(nums, target)\n",
    "print(result)\n",
    "\n"
   ]
  },
  {
   "cell_type": "code",
   "execution_count": 13,
   "id": "7309476a",
   "metadata": {},
   "outputs": [
    {
     "name": "stdout",
     "output_type": "stream",
     "text": [
      "2\n",
      "[2, 2]\n"
     ]
    }
   ],
   "source": [
    "'''\n",
    "Given an integer array nums and an integer val, remove all occurrences of val in nums in-place. The order of the elements may be changed. Then return the number of elements in nums which are not equal to val.\n",
    "\n",
    "Consider the number of elements in nums which are not equal to val be k, to get accepted, you need to do the following things:\n",
    "\n",
    "- Change the array nums such that the first k elements of nums contain the elements which are not equal to val. The remaining elements of nums are not important as well as the size of nums.\n",
    "- Return k.\n",
    "\n",
    "'''\n",
    "\n",
    "def remove_element(nums, val):\n",
    "    k = 0  # Number of elements not equal to val\n",
    "    \n",
    "    # Iterate through the array\n",
    "    for i in range(len(nums)):\n",
    "        # If the current element is not equal to val\n",
    "        if nums[i] != val:\n",
    "            # Move the non-val element to the correct position\n",
    "            nums[k] = nums[i]\n",
    "            k += 1\n",
    "    \n",
    "    return k\n",
    "\n",
    "nums = [3, 2, 2, 3]\n",
    "val = 3\n",
    "result = remove_element(nums, val)\n",
    "print(result)\n",
    "print(nums[:result])  # Print the elements not equal to val\n"
   ]
  },
  {
   "cell_type": "code",
   "execution_count": 21,
   "id": "7efdecd5",
   "metadata": {},
   "outputs": [
    {
     "name": "stdout",
     "output_type": "stream",
     "text": [
      "2\n"
     ]
    }
   ],
   "source": [
    "'''\n",
    "Given a sorted array of distinct integers and a target value, return the index if the target is found. If not, return the index where it would be if it were inserted in order.\n",
    "\n",
    "You must write an algorithm with O(log n) runtime complexity.\n",
    "\n",
    "'''\n",
    "\n",
    "def search_insert(nums, target):\n",
    "    left = 0\n",
    "    right = len(nums) - 1\n",
    "    \n",
    "    while left <= right:\n",
    "        mid = (left + right) // 2\n",
    "        \n",
    "        if nums[mid] == target:\n",
    "            return mid\n",
    "        elif nums[mid] < target:\n",
    "            left = mid + 1\n",
    "        else:\n",
    "            right = mid - 1\n",
    "    \n",
    "    return left\n",
    "\n",
    "\n",
    "nums = [1, 3, 5, 6, 18]\n",
    "target = 4\n",
    "result = search_insert(nums, target)\n",
    "print(result)\n"
   ]
  },
  {
   "cell_type": "code",
   "execution_count": 28,
   "id": "b1427a32",
   "metadata": {},
   "outputs": [
    {
     "name": "stdout",
     "output_type": "stream",
     "text": [
      "[9, 4, 0]\n"
     ]
    }
   ],
   "source": [
    "'''\n",
    "You are given a large integer represented as an integer array digits, where each digits[i] is the ith digit of the integer. The digits are ordered from most significant to least significant in left-to-right order. The large integer does not contain any leading 0's.\n",
    "\n",
    "Increment the large integer by one and return the resulting array of digits.\n",
    "\n",
    "'''\n",
    "\n",
    "def plusOne(digits):\n",
    "    n = len(digits)\n",
    "    \n",
    "    # Iterate through the digits in reverse order\n",
    "    for i in range(n - 1, -1, -1):\n",
    "        # Increment the current digit by 1\n",
    "        digits[i] += 1\n",
    "        \n",
    "        # If there is no carry, return the updated digits\n",
    "        if digits[i] < 10:\n",
    "            return digits\n",
    "        \n",
    "        # If there is a carry, propagate it to the next digit\n",
    "        digits[i] = 0\n",
    "    \n",
    "    # If there is still a carry after iterating through all digits,\n",
    "    # add an additional digit at the beginning\n",
    "    digits.insert(0, 1)\n",
    "    \n",
    "    return digits\n",
    "\n",
    "digits = [9, 3, 9]\n",
    "result = plusOne(digits)\n",
    "print(result)\n"
   ]
  },
  {
   "cell_type": "code",
   "execution_count": 37,
   "id": "9e31de0d",
   "metadata": {},
   "outputs": [
    {
     "name": "stdout",
     "output_type": "stream",
     "text": [
      "[1, 2, 2, 5, 6, 8]\n"
     ]
    }
   ],
   "source": [
    "'''\n",
    "You are given two integer arrays nums1 and nums2, sorted in non-decreasing order, and two integers m and n, representing the number of elements in nums1 and nums2 respectively.\n",
    "\n",
    "Merge nums1 and nums2 into a single array sorted in non-decreasing order.\n",
    "\n",
    "The final sorted array should not be returned by the function, but instead be stored inside the array nums1. To accommodate this, nums1 has a length of m + n, where the first m elements denote the elements that should be merged, and the last n elements are set to 0 and should be ignored. nums2 has a length of n.\n",
    "\n",
    "'''\n",
    "\n",
    "def merge(nums1, m, nums2, n):\n",
    "    # Initialize pointers for nums1, nums2, and the merged array\n",
    "    p1 = m - 1\n",
    "    p2 = n - 1\n",
    "    p = m + n - 1\n",
    "    \n",
    "    # Merge nums1 and nums2 starting from the end\n",
    "    while p1 >= 0 and p2 >= 0:\n",
    "        if nums1[p1] <= nums2[p2]:\n",
    "            nums1[p] = nums2[p2]\n",
    "            p2 -= 1\n",
    "        else:\n",
    "            nums1[p] = nums1[p1]\n",
    "            p1 -= 1\n",
    "        p -= 1\n",
    "    \n",
    "    # Copy remaining elements from nums2 if any\n",
    "    nums1[:p2 + 1] = nums2[:p2 + 1]\n",
    "    \n",
    "\n",
    "\n",
    "nums1 = [1, 2, 8, 0, 0, 0]\n",
    "m = 3\n",
    "nums2 = [2, 5, 6]\n",
    "n = 3\n",
    "\n",
    "merge(nums1, m, nums2, n)\n",
    "print(nums1)\n"
   ]
  },
  {
   "cell_type": "code",
   "execution_count": 60,
   "id": "acacc59a",
   "metadata": {},
   "outputs": [
    {
     "name": "stdout",
     "output_type": "stream",
     "text": [
      "False\n"
     ]
    }
   ],
   "source": [
    "'''\n",
    "Given an integer array nums, return true if any value appears at least twice in the array, and return false if every element is distinct.\n",
    "\n",
    "'''\n",
    "\n",
    "def containsDuplicate(nums):\n",
    "    num_set = set()\n",
    "    \n",
    "    for num in nums:\n",
    "        if num in num_set:\n",
    "            return True\n",
    "        num_set.add(num)\n",
    "    \n",
    "    return False\n",
    "\n",
    "\n",
    "nums = [1, 2, 3, 4]\n",
    "result = containsDuplicate(nums)\n",
    "print(result)\n"
   ]
  },
  {
   "cell_type": "code",
   "execution_count": 54,
   "id": "3a8bc32d",
   "metadata": {},
   "outputs": [
    {
     "name": "stdout",
     "output_type": "stream",
     "text": [
      "[6, 12, 0, 0, 0]\n"
     ]
    }
   ],
   "source": [
    "'''\n",
    "Given an integer array nums, move all 0's to the end of it while maintaining the relative order of the nonzero elements.\n",
    "\n",
    "Note that you must do this in-place without making a copy of the array.\n",
    "\n",
    "'''\n",
    "\n",
    "\n",
    "def moveZeroes(nums):\n",
    "    left = 0\n",
    "    \n",
    "    # Iterate through the array\n",
    "    for right in range(len(nums)):\n",
    "        # If the current element is non-zero\n",
    "        if nums[right] != 0:\n",
    "            # Move the non-zero element to the left pointer position\n",
    "            nums[left], nums[right] = nums[right], nums[left]\n",
    "            left += 1\n",
    "\n",
    "            \n",
    "nums = [0, 0, 0, 6, 12]\n",
    "moveZeroes(nums)\n",
    "print(nums)\n"
   ]
  },
  {
   "cell_type": "code",
   "execution_count": 59,
   "id": "cec5c608",
   "metadata": {},
   "outputs": [
    {
     "name": "stdout",
     "output_type": "stream",
     "text": [
      "[2, 3]\n"
     ]
    }
   ],
   "source": [
    "'''\n",
    "You have a set of integers s, which originally contains all the numbers from 1 to n. Unfortunately, due to some error, one of the numbers in s got duplicated to another number in the set, which results in repetition of one number and loss of another number.\n",
    "\n",
    "You are given an integer array nums representing the data status of this set after the error.\n",
    "\n",
    "Find the number that occurs twice and the number that is missing and return them in the form of an array.\n",
    "\n",
    "'''\n",
    "\n",
    "\n",
    "\n",
    "\n",
    "def findErrorNums(nums):\n",
    "    xor = 0\n",
    "    n = len(nums)\n",
    "    \n",
    "    # Calculate the XOR of all numbers from 1 to n\n",
    "    for i in range(1, n + 1):\n",
    "        xor ^= i\n",
    "    \n",
    "    # Calculate the XOR of all elements in nums and all numbers from 1 to n\n",
    "    for num in nums:\n",
    "        xor ^= num\n",
    "    \n",
    "    # Find the rightmost set bit in the XOR result\n",
    "    rightmost_set_bit = xor & ~(xor - 1)\n",
    "    \n",
    "    # Split the elements into two groups based on the rightmost set bit\n",
    "    missing = 0\n",
    "    duplicate = 0\n",
    "    for num in nums:\n",
    "        if num & rightmost_set_bit:\n",
    "            missing ^= num\n",
    "        else:\n",
    "            duplicate ^= num\n",
    "    \n",
    "    # Check which number is missing between 1 to n\n",
    "    for i in range(1, n + 1):\n",
    "        if i & rightmost_set_bit:\n",
    "            missing ^= i\n",
    "        else:\n",
    "            duplicate ^= i\n",
    "    \n",
    "    return [duplicate, missing]\n",
    "\n",
    "\n",
    "nums = [1, 2, 2, 4]\n",
    "result = findErrorNums(nums)\n",
    "print(result)\n"
   ]
  },
  {
   "cell_type": "code",
   "execution_count": null,
   "id": "87a945a4",
   "metadata": {},
   "outputs": [],
   "source": []
  }
 ],
 "metadata": {
  "kernelspec": {
   "display_name": "Python 3 (ipykernel)",
   "language": "python",
   "name": "python3"
  },
  "language_info": {
   "codemirror_mode": {
    "name": "ipython",
    "version": 3
   },
   "file_extension": ".py",
   "mimetype": "text/x-python",
   "name": "python",
   "nbconvert_exporter": "python",
   "pygments_lexer": "ipython3",
   "version": "3.9.12"
  }
 },
 "nbformat": 4,
 "nbformat_minor": 5
}
